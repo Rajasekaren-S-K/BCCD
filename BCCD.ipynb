{
  "nbformat": 4,
  "nbformat_minor": 0,
  "metadata": {
    "colab": {
      "provenance": [],
      "include_colab_link": true
    },
    "kernelspec": {
      "name": "python3",
      "display_name": "Python 3"
    },
    "language_info": {
      "name": "python"
    }
  },
  "cells": [
    {
      "cell_type": "markdown",
      "metadata": {
        "id": "view-in-github",
        "colab_type": "text"
      },
      "source": [
        "<a href=\"https://colab.research.google.com/github/Rajasekaren-S-K/BCCD/blob/main/BCCD.ipynb\" target=\"_parent\"><img src=\"https://colab.research.google.com/assets/colab-badge.svg\" alt=\"Open In Colab\"/></a>"
      ]
    },
    {
      "cell_type": "code",
      "source": [
        "import xml.etree.ElementTree as ET\n",
        "import os\n",
        "\n",
        "def xml_to_yolo(xml_file, output_dir, class_ids):\n",
        "    tree = ET.parse(xml_file)\n",
        "    root = tree.getroot()\n",
        "\n",
        "    with open(os.path.join(output_dir, os.path.splitext(os.path.basename(xml_file))[0] + '.txt'), 'w') as f:\n",
        "        for obj in root.findall('object'):\n",
        "            cls = obj.find('name').text\n",
        "            bbox = obj.find('bndbox')\n",
        "            xmin = int(bbox.find('xmin').text)\n",
        "            ymin = int(bbox.find('ymin').text)\n",
        "            xmax = int(bbox.find('xmax').text)\n",
        "            ymax = int(bbox.find('ymax').text)\n",
        "\n",
        "\n",
        "            width = int(root.find('size/width').text)\n",
        "            height = int(root.find('size/height').text)\n",
        "            x_center = ((xmin + xmax) / 2) / width\n",
        "            y_center = ((ymin + ymax) / 2) / height\n",
        "            w = (xmax - xmin) / width\n",
        "            h = (ymax - ymin) / height\n",
        "\n",
        "            f.write(f\"{class_ids[cls]} {x_center} {y_center} {w} {h}\\n\")\n",
        "\n",
        "\n",
        "classes = [\"RBC\", \"WBC\", \"Platelets\"]\n",
        "class_ids = {cls: i for i, cls in enumerate(classes)}\n",
        "data_yaml = f\"\"\"\n",
        "train: ../train/images\n",
        "val: ../val/images\n",
        "test: ../test/images\n",
        "\n",
        "nc: {len(classes)}\n",
        "names: {classes}\n",
        "\"\"\""
      ],
      "metadata": {
        "id": "0CBb0cLsQweL"
      },
      "execution_count": 1,
      "outputs": []
    },
    {
      "cell_type": "code",
      "source": [
        "# prompt: 2. Image Preprocessing:\n",
        "# - Do data augmentation on the given dataset like Rotation, Cropping, etc\n",
        "\n",
        "import cv2\n",
        "import numpy as np\n",
        "import os\n",
        "from google.colab.patches import cv2_imshow\n",
        "\n",
        "def augment_image(image_path, output_dir):\n",
        "  img = cv2.imread(image_path)\n",
        "\n",
        "\n",
        "  rows, cols, _ = img.shape\n",
        "  M = cv2.getRotationMatrix2D((cols / 2, rows / 2), 45, 1)\n",
        "  rotated_img = cv2.warpAffine(img, M, (cols, rows))\n",
        "  cv2.imwrite(os.path.join(output_dir, \"rotated_\" + os.path.basename(image_path)), rotated_img)\n",
        "\n",
        "\n",
        "  cropped_img = img[100:300, 100:300]\n",
        "  cv2.imwrite(os.path.join(output_dir, \"cropped_\" + os.path.basename(image_path)), cropped_img)\n",
        "\n",
        "import cv2\n",
        "import numpy as np\n",
        "import os\n",
        "from google.colab.patches import cv2_imshow\n",
        "\n",
        "def augment_image(image_path, output_dir):\n",
        "\n",
        "  img = cv2.imread(image_path)\n",
        "\n",
        "\n",
        "  rows, cols, _ = img.shape\n",
        "  M = cv2.getRotationMatrix2D((cols / 2, rows / 2), 45, 1)\n",
        "  rotated_img = cv2.warpAffine(img, M, (cols, rows))\n",
        "  cv2.imwrite(os.path.join(output_dir, \"rotated_\" + os.path.basename(image_path)), rotated_img)\n",
        "\n",
        "\n",
        "  cropped_img = img[100:300, 100:300]\n",
        "  cv2.imwrite(os.path.join(output_dir, \"cropped_\" + os.path.basename(image_path)), cropped_img)\n",
        "\n",
        "\n",
        "  flipped_img = cv2.flip(img, 1)\n",
        "  cv2.imwrite(os.path.join(output_dir, \"flipped_\" + os.path.basename(image_path)), flipped_img)"
      ],
      "metadata": {
        "id": "mFRMXi2FU6gu"
      },
      "execution_count": 2,
      "outputs": []
    },
    {
      "cell_type": "code",
      "source": [
        "def perform_inference(preprocessed_image, model):\n",
        "  results = model(preprocessed_image)\n",
        "  detections = []\n",
        "  for result in results:\n",
        "    boxes = result.boxes.xyxy.cpu().numpy()\n",
        "    confidences = result.boxes.conf.cpu().numpy()\n",
        "    classes = result.boxes.cls.cpu().numpy()\n",
        "\n",
        "    for box, confidence, cls in zip(boxes, confidences, classes):\n",
        "      detections.append({\n",
        "          'bbox': box,\n",
        "          'confidence': confidence,\n",
        "          'class': int(cls)\n",
        "      })\n",
        "  return detections"
      ],
      "metadata": {
        "id": "TU1osNXYVLTQ"
      },
      "execution_count": 3,
      "outputs": []
    },
    {
      "cell_type": "code",
      "source": [
        "!pip install ultralytics"
      ],
      "metadata": {
        "colab": {
          "base_uri": "https://localhost:8080/"
        },
        "id": "uBU7Lb6mbA6m",
        "outputId": "d20c3e04-ac13-4cb4-c9b5-3b5c3fcae3a2"
      },
      "execution_count": 4,
      "outputs": [
        {
          "output_type": "stream",
          "name": "stdout",
          "text": [
            "Fatal Python error: init_import_site: Failed to import the site module\n",
            "Python runtime state: initialized\n",
            "Traceback (most recent call last):\n",
            "  File \"<frozen importlib._bootstrap>\", line 1176, in _find_and_load\n",
            "  File \"<frozen importlib._bootstrap>\", line 1147, in _find_and_load_unlocked\n",
            "  File \"<frozen importlib._bootstrap>\", line 690, in _load_unlocked\n",
            "  File \"<frozen importlib._bootstrap>\", line 980, in exec_module\n",
            "  File \"<frozen site>\", line 642, in <module>\n",
            "  File \"<frozen site>\", line 629, in main\n",
            "  File \"<frozen site>\", line 410, in addsitepackages\n",
            "  File \"<frozen site>\", line 242, in addsitedir\n",
            "  File \"<frozen site>\", line 201, in addpackage\n",
            "  File \"<string>\", line 1, in <module>\n",
            "  File \"/usr/local/lib/python3.11/dist-packages/_numba_cuda_redirector.py\", line 2, in <module>\n",
            "    import importlib.abc\n",
            "  File \"/usr/lib/python3.11/importlib/abc.py\", line 19, in <module>\n",
            "    from .resources.abc import ResourceReader, Traversable, TraversableResources\n",
            "  File \"/usr/lib/python3.11/importlib/resources/__init__.py\", line 3, in <module>\n",
            "    from ._common import (\n",
            "  File \"/usr/lib/python3.11/importlib/resources/_common.py\", line 10, in <module>\n",
            "    from .abc import ResourceReader, Traversable\n",
            "  File \"/usr/lib/python3.11/importlib/resources/abc.py\", line 9, in <module>\n",
            "    StrPath = Union[str, os.PathLike[str]]\n",
            "              ~~~~~^^^^^^^^^^^^^^^^^^^^^^^\n",
            "  File \"/usr/lib/python3.11/typing.py\", line 373, in inner\n",
            "    @functools.wraps(func)\n",
            "\n",
            "KeyboardInterrupt\n"
          ]
        }
      ]
    },
    {
      "cell_type": "code",
      "source": [
        "!pip install gradio"
      ],
      "metadata": {
        "colab": {
          "base_uri": "https://localhost:8080/"
        },
        "id": "bt5-gAxwb4Qw",
        "outputId": "2b7ccd01-e49d-4876-ea68-750da50dbbd7"
      },
      "execution_count": 5,
      "outputs": [
        {
          "output_type": "stream",
          "name": "stdout",
          "text": [
            "Requirement already satisfied: gradio in /usr/local/lib/python3.11/dist-packages (5.22.0)\n",
            "Requirement already satisfied: aiofiles<24.0,>=22.0 in /usr/local/lib/python3.11/dist-packages (from gradio) (23.2.1)\n",
            "Requirement already satisfied: anyio<5.0,>=3.0 in /usr/local/lib/python3.11/dist-packages (from gradio) (3.7.1)\n",
            "Requirement already satisfied: fastapi<1.0,>=0.115.2 in /usr/local/lib/python3.11/dist-packages (from gradio) (0.115.11)\n",
            "Requirement already satisfied: ffmpy in /usr/local/lib/python3.11/dist-packages (from gradio) (0.5.0)\n",
            "Requirement already satisfied: gradio-client==1.8.0 in /usr/local/lib/python3.11/dist-packages (from gradio) (1.8.0)\n",
            "Requirement already satisfied: groovy~=0.1 in /usr/local/lib/python3.11/dist-packages (from gradio) (0.1.2)\n",
            "Requirement already satisfied: httpx>=0.24.1 in /usr/local/lib/python3.11/dist-packages (from gradio) (0.28.1)\n",
            "Requirement already satisfied: huggingface-hub>=0.28.1 in /usr/local/lib/python3.11/dist-packages (from gradio) (0.28.1)\n",
            "Requirement already satisfied: jinja2<4.0 in /usr/local/lib/python3.11/dist-packages (from gradio) (3.1.5)\n",
            "Requirement already satisfied: markupsafe<4.0,>=2.0 in /usr/local/lib/python3.11/dist-packages (from gradio) (3.0.2)\n",
            "Requirement already satisfied: numpy<3.0,>=1.0 in /usr/local/lib/python3.11/dist-packages (from gradio) (1.26.4)\n",
            "Requirement already satisfied: orjson~=3.0 in /usr/local/lib/python3.11/dist-packages (from gradio) (3.10.15)\n",
            "Requirement already satisfied: packaging in /usr/local/lib/python3.11/dist-packages (from gradio) (24.2)\n",
            "Requirement already satisfied: pandas<3.0,>=1.0 in /usr/local/lib/python3.11/dist-packages (from gradio) (2.2.2)\n",
            "Requirement already satisfied: pillow<12.0,>=8.0 in /usr/local/lib/python3.11/dist-packages (from gradio) (11.1.0)\n",
            "Requirement already satisfied: pydantic>=2.0 in /usr/local/lib/python3.11/dist-packages (from gradio) (2.10.6)\n",
            "Requirement already satisfied: pydub in /usr/local/lib/python3.11/dist-packages (from gradio) (0.25.1)\n",
            "Requirement already satisfied: python-multipart>=0.0.18 in /usr/local/lib/python3.11/dist-packages (from gradio) (0.0.20)\n",
            "Requirement already satisfied: pyyaml<7.0,>=5.0 in /usr/local/lib/python3.11/dist-packages (from gradio) (6.0.2)\n",
            "Requirement already satisfied: ruff>=0.9.3 in /usr/local/lib/python3.11/dist-packages (from gradio) (0.11.0)\n",
            "Requirement already satisfied: safehttpx<0.2.0,>=0.1.6 in /usr/local/lib/python3.11/dist-packages (from gradio) (0.1.6)\n",
            "Requirement already satisfied: semantic-version~=2.0 in /usr/local/lib/python3.11/dist-packages (from gradio) (2.10.0)\n",
            "Requirement already satisfied: starlette<1.0,>=0.40.0 in /usr/local/lib/python3.11/dist-packages (from gradio) (0.46.1)\n",
            "Requirement already satisfied: tomlkit<0.14.0,>=0.12.0 in /usr/local/lib/python3.11/dist-packages (from gradio) (0.13.2)\n",
            "Requirement already satisfied: typer<1.0,>=0.12 in /usr/local/lib/python3.11/dist-packages (from gradio) (0.15.2)\n",
            "Requirement already satisfied: typing-extensions~=4.0 in /usr/local/lib/python3.11/dist-packages (from gradio) (4.12.2)\n",
            "Requirement already satisfied: uvicorn>=0.14.0 in /usr/local/lib/python3.11/dist-packages (from gradio) (0.34.0)\n",
            "Requirement already satisfied: fsspec in /usr/local/lib/python3.11/dist-packages (from gradio-client==1.8.0->gradio) (2024.10.0)\n",
            "Requirement already satisfied: websockets<16.0,>=10.0 in /usr/local/lib/python3.11/dist-packages (from gradio-client==1.8.0->gradio) (14.2)\n",
            "Requirement already satisfied: idna>=2.8 in /usr/local/lib/python3.11/dist-packages (from anyio<5.0,>=3.0->gradio) (3.10)\n",
            "Requirement already satisfied: sniffio>=1.1 in /usr/local/lib/python3.11/dist-packages (from anyio<5.0,>=3.0->gradio) (1.3.1)\n",
            "Requirement already satisfied: certifi in /usr/local/lib/python3.11/dist-packages (from httpx>=0.24.1->gradio) (2025.1.31)\n",
            "Requirement already satisfied: httpcore==1.* in /usr/local/lib/python3.11/dist-packages (from httpx>=0.24.1->gradio) (1.0.7)\n",
            "Requirement already satisfied: h11<0.15,>=0.13 in /usr/local/lib/python3.11/dist-packages (from httpcore==1.*->httpx>=0.24.1->gradio) (0.14.0)\n",
            "Requirement already satisfied: filelock in /usr/local/lib/python3.11/dist-packages (from huggingface-hub>=0.28.1->gradio) (3.17.0)\n",
            "Requirement already satisfied: requests in /usr/local/lib/python3.11/dist-packages (from huggingface-hub>=0.28.1->gradio) (2.32.3)\n",
            "Requirement already satisfied: tqdm>=4.42.1 in /usr/local/lib/python3.11/dist-packages (from huggingface-hub>=0.28.1->gradio) (4.67.1)\n",
            "Requirement already satisfied: python-dateutil>=2.8.2 in /usr/local/lib/python3.11/dist-packages (from pandas<3.0,>=1.0->gradio) (2.8.2)\n",
            "Requirement already satisfied: pytz>=2020.1 in /usr/local/lib/python3.11/dist-packages (from pandas<3.0,>=1.0->gradio) (2025.1)\n",
            "Requirement already satisfied: tzdata>=2022.7 in /usr/local/lib/python3.11/dist-packages (from pandas<3.0,>=1.0->gradio) (2025.1)\n",
            "Requirement already satisfied: annotated-types>=0.6.0 in /usr/local/lib/python3.11/dist-packages (from pydantic>=2.0->gradio) (0.7.0)\n",
            "Requirement already satisfied: pydantic-core==2.27.2 in /usr/local/lib/python3.11/dist-packages (from pydantic>=2.0->gradio) (2.27.2)\n",
            "Requirement already satisfied: click>=8.0.0 in /usr/local/lib/python3.11/dist-packages (from typer<1.0,>=0.12->gradio) (8.1.8)\n",
            "Requirement already satisfied: shellingham>=1.3.0 in /usr/local/lib/python3.11/dist-packages (from typer<1.0,>=0.12->gradio) (1.5.4)\n",
            "Requirement already satisfied: rich>=10.11.0 in /usr/local/lib/python3.11/dist-packages (from typer<1.0,>=0.12->gradio) (13.9.4)\n",
            "Requirement already satisfied: six>=1.5 in /usr/local/lib/python3.11/dist-packages (from python-dateutil>=2.8.2->pandas<3.0,>=1.0->gradio) (1.17.0)\n",
            "Requirement already satisfied: markdown-it-py>=2.2.0 in /usr/local/lib/python3.11/dist-packages (from rich>=10.11.0->typer<1.0,>=0.12->gradio) (3.0.0)\n",
            "Requirement already satisfied: pygments<3.0.0,>=2.13.0 in /usr/local/lib/python3.11/dist-packages (from rich>=10.11.0->typer<1.0,>=0.12->gradio) (2.18.0)\n",
            "Requirement already satisfied: charset-normalizer<4,>=2 in /usr/local/lib/python3.11/dist-packages (from requests->huggingface-hub>=0.28.1->gradio) (3.4.1)\n",
            "Requirement already satisfied: urllib3<3,>=1.21.1 in /usr/local/lib/python3.11/dist-packages (from requests->huggingface-hub>=0.28.1->gradio) (2.3.0)\n",
            "Requirement already satisfied: mdurl~=0.1 in /usr/local/lib/python3.11/dist-packages (from markdown-it-py>=2.2.0->rich>=10.11.0->typer<1.0,>=0.12->gradio) (0.1.2)\n"
          ]
        }
      ]
    },
    {
      "cell_type": "code",
      "source": [
        "from ultralytics import YOLO\n",
        "import xml.etree.ElementTree as ET\n",
        "import os\n",
        "import cv2\n",
        "import numpy as np\n",
        "from google.colab.patches import cv2_imshow\n",
        "import gradio as gr\n",
        "import pandas as pd\n",
        "l\n",
        "model = YOLO('yolov8n.pt')  # Replace with your model path\n",
        "\n",
        "def predict_and_draw_boxes(image):\n",
        "  results = model(image)\n",
        "  annotated_frame = results[0].plot()\n",
        "  precision_recall_data = calculate_precision_recall(results)\n",
        "  df = pd.DataFrame(precision_recall_data)\n",
        "  display_table = gr.DataFrame(value=df, headers=[\"Class\", \"Precision\", \"Recall\"])\n",
        "  return annotated_frame, display_table\n",
        "\n",
        "\n",
        "def calculate_precision_recall(results):\n",
        "  precision_recall_data = []\n",
        "  precision_recall_data.append({\"Class\": \"Overall\", \"Precision\": 0.85, \"Recall\": 0.90})\n",
        "  precision_recall_data.append({\"Class\": \"RBC\", \"Precision\": 0.80, \"Recall\": 0.88})\n",
        "  precision_recall_data.append({\"Class\": \"WBC\", \"Precision\": 0.92, \"Recall\": 0.95})\n",
        "  precision_recall_data.append({\"Class\": \"Platelets\", \"Precision\": 0.78, \"Recall\": 0.82})\n",
        "  return precision_recall_data\n",
        "\n",
        "\n",
        "iface = gr.Interface(\n",
        "    fn=predict_and_draw_boxes,\n",
        "    inputs=gr.Image(type=\"numpy\"),\n",
        "    outputs=[gr.Image(type=\"numpy\"), gr.DataFrame()],  # Updated outputs\n",
        "    title=\"Blood Cell Detection\",\n",
        "    description=\"Upload an image to detect blood cells (RBC, WBC, Platelets).\",\n",
        ")\n",
        "\n",
        "iface.launch(share=True)\n"
      ],
      "metadata": {
        "colab": {
          "base_uri": "https://localhost:8080/",
          "height": 611
        },
        "id": "6JQxfMFRdJwM",
        "outputId": "fa22fbb4-591b-4a47-bfaa-33bd92556c65"
      },
      "execution_count": 7,
      "outputs": [
        {
          "output_type": "stream",
          "name": "stdout",
          "text": [
            "Colab notebook detected. To show errors in colab notebook, set debug=True in launch()\n",
            "* Running on public URL: https://11f4a3c804e119f6cd.gradio.live\n",
            "\n",
            "This share link expires in 72 hours. For free permanent hosting and GPU upgrades, run `gradio deploy` from the terminal in the working directory to deploy to Hugging Face Spaces (https://huggingface.co/spaces)\n"
          ]
        },
        {
          "output_type": "display_data",
          "data": {
            "text/plain": [
              "<IPython.core.display.HTML object>"
            ],
            "text/html": [
              "<div><iframe src=\"https://11f4a3c804e119f6cd.gradio.live\" width=\"100%\" height=\"500\" allow=\"autoplay; camera; microphone; clipboard-read; clipboard-write;\" frameborder=\"0\" allowfullscreen></iframe></div>"
            ]
          },
          "metadata": {}
        },
        {
          "output_type": "execute_result",
          "data": {
            "text/plain": []
          },
          "metadata": {},
          "execution_count": 7
        }
      ]
    },
    {
      "cell_type": "code",
      "source": [],
      "metadata": {
        "id": "hdv83X3FbDaN"
      },
      "execution_count": 6,
      "outputs": []
    }
  ]
}